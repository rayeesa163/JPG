{
  "nbformat": 4,
  "nbformat_minor": 0,
  "metadata": {
    "colab": {
      "provenance": [],
      "authorship_tag": "ABX9TyNjkaIiEXz9MjLu/kVdS9lv",
      "include_colab_link": true
    },
    "kernelspec": {
      "name": "python3",
      "display_name": "Python 3"
    },
    "language_info": {
      "name": "python"
    }
  },
  "cells": [
    {
      "cell_type": "markdown",
      "metadata": {
        "id": "view-in-github",
        "colab_type": "text"
      },
      "source": [
        "<a href=\"https://colab.research.google.com/github/rayeesa163/JPG/blob/main/task2.ipynb\" target=\"_parent\"><img src=\"https://colab.research.google.com/assets/colab-badge.svg\" alt=\"Open In Colab\"/></a>"
      ]
    },
    {
      "cell_type": "code",
      "execution_count": 2,
      "metadata": {
        "colab": {
          "base_uri": "https://localhost:8080/",
          "height": 400
        },
        "id": "2cAUeRW_SIue",
        "outputId": "bb2d9b88-d91d-4aff-a415-e7f2849a2c91"
      },
      "outputs": [
        {
          "output_type": "error",
          "ename": "ModuleNotFoundError",
          "evalue": "No module named 'client'",
          "traceback": [
            "\u001b[0;31m---------------------------------------------------------------------------\u001b[0m",
            "\u001b[0;31mModuleNotFoundError\u001b[0m                       Traceback (most recent call last)",
            "\u001b[0;32m<ipython-input-2-de4285466f68>\u001b[0m in \u001b[0;36m<cell line: 2>\u001b[0;34m()\u001b[0m\n\u001b[1;32m      1\u001b[0m \u001b[0;32mimport\u001b[0m \u001b[0munittest\u001b[0m\u001b[0;34m\u001b[0m\u001b[0;34m\u001b[0m\u001b[0m\n\u001b[0;32m----> 2\u001b[0;31m \u001b[0;32mfrom\u001b[0m \u001b[0mclient\u001b[0m \u001b[0;32mimport\u001b[0m \u001b[0mgetDataPoint\u001b[0m\u001b[0;34m,\u001b[0m \u001b[0mgetRatio\u001b[0m  \u001b[0;31m# assuming the methods are in a module called client\u001b[0m\u001b[0;34m\u001b[0m\u001b[0;34m\u001b[0m\u001b[0m\n\u001b[0m\u001b[1;32m      3\u001b[0m \u001b[0;34m\u001b[0m\u001b[0m\n\u001b[1;32m      4\u001b[0m \u001b[0;32mclass\u001b[0m \u001b[0mTestClient\u001b[0m\u001b[0;34m(\u001b[0m\u001b[0munittest\u001b[0m\u001b[0;34m.\u001b[0m\u001b[0mTestCase\u001b[0m\u001b[0;34m)\u001b[0m\u001b[0;34m:\u001b[0m\u001b[0;34m\u001b[0m\u001b[0;34m\u001b[0m\u001b[0m\n\u001b[1;32m      5\u001b[0m     \u001b[0;32mdef\u001b[0m \u001b[0massert_data_point\u001b[0m\u001b[0;34m(\u001b[0m\u001b[0mself\u001b[0m\u001b[0;34m,\u001b[0m \u001b[0mdata_point\u001b[0m\u001b[0;34m,\u001b[0m \u001b[0mquote\u001b[0m\u001b[0;34m)\u001b[0m\u001b[0;34m:\u001b[0m\u001b[0;34m\u001b[0m\u001b[0;34m\u001b[0m\u001b[0m\n",
            "\u001b[0;31mModuleNotFoundError\u001b[0m: No module named 'client'",
            "",
            "\u001b[0;31m---------------------------------------------------------------------------\u001b[0;32m\nNOTE: If your import is failing due to a missing package, you can\nmanually install dependencies using either !pip or !apt.\n\nTo view examples of installing some common dependencies, click the\n\"Open Examples\" button below.\n\u001b[0;31m---------------------------------------------------------------------------\u001b[0m\n"
          ],
          "errorDetails": {
            "actions": [
              {
                "action": "open_url",
                "actionText": "Open Examples",
                "url": "/notebooks/snippets/importing_libraries.ipynb"
              }
            ]
          }
        }
      ],
      "source": [
        "import unittest\n",
        "from client import getDataPoint, getRatio  # assuming the methods are in a module called client\n",
        "\n",
        "class TestClient(unittest.TestCase):\n",
        "    def assert_data_point(self, data_point, quote):\n",
        "        self.assertIsInstance(data_point, tuple)\n",
        "        self.assertEqual(len(data_point), 4)\n",
        "        self.assertEqual(data_point[0], quote[\"stock\"])\n",
        "        self.assertEqual(data_point[1], quote[\"top_bid_price\"])\n",
        "        self.assertEqual(data_point[2], quote[\"top_ask_price\"])\n",
        "        self.assertEqual(data_point[3], quote[\"stock_price_based_on_formula\"])\n",
        "\n",
        "    def test_getDataPoint(self):\n",
        "        test_data = [\n",
        "            {\"stock\": \"AAPL\", \"top_bid_price\": 100.0, \"top_ask_price\": 110.0, \"stock_price_based_on_formula\": 105.0},\n",
        "            {\"stock\": \"GOOG\", \"top_bid_price\": 2000.0, \"top_ask_price\": 2100.0, \"stock_price_based_on_formula\": 2050.0},\n",
        "            {\"stock\": \"AAPL\", \"top_bid_price\": 110.0, \"top_ask_price\": 100.0, \"stock_price_based_on_formula\": 105.0},\n",
        "            {\"stock\": \"GOOG\", \"top_bid_price\": 2100.0, \"top_ask_price\": 2000.0, \"stock_price_based_on_formula\": 2050.0},\n",
        "            # add more test data as needed\n",
        "        ]\n",
        "        for quote in test_data:\n",
        "            data_point = getDataPoint(quote)\n",
        "            self.assert_data_point(data_point, quote)\n",
        "\n",
        "    def test_getRatio(self):\n",
        "        test_data = [\n",
        "            {\"stock\": \"AAPL\", \"top_bid_price\": 100.0, \"top_ask_price\": 110.0},\n",
        "            {\"stock\": \"GOOG\", \"top_bid_price\": 2000.0, \"top_ask_price\": 2100.0},\n",
        "            {\"stock\": \"AAPL\", \"top_bid_price\": 110.0, \"top_ask_price\": 100.0},\n",
        "            {\"stock\": \"GOOG\", \"top_bid_price\": 2100.0, \"top_ask_price\": 2000.0},\n",
        "            # add more test data as needed\n",
        "        ]\n",
        "        for quote in test_data:\n",
        "            ratio = getRatio(quote)\n",
        "            self.assertIsInstance(ratio, float)\n",
        "            # add more assertions for the ratio value as needed\n",
        "\n",
        "if __name__ == \"__main__\":\n",
        "    unittest.main()"
      ]
    }
  ]
}