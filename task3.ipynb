{
  "nbformat": 4,
  "nbformat_minor": 0,
  "metadata": {
    "colab": {
      "provenance": [],
      "authorship_tag": "ABX9TyOlgPhRRRXuzOWrigtpRS3Y",
      "include_colab_link": true
    },
    "kernelspec": {
      "name": "python3",
      "display_name": "Python 3"
    },
    "language_info": {
      "name": "python"
    }
  },
  "cells": [
    {
      "cell_type": "markdown",
      "metadata": {
        "id": "view-in-github",
        "colab_type": "text"
      },
      "source": [
        "<a href=\"https://colab.research.google.com/github/rayeesa163/JPG/blob/main/task3.ipynb\" target=\"_parent\"><img src=\"https://colab.research.google.com/assets/colab-badge.svg\" alt=\"Open In Colab\"/></a>"
      ]
    },
    {
      "cell_type": "code",
      "source": [
        "interface Row {\n",
        "  timestamp: number;\n",
        "  ratio: number;\n",
        "  upper_bound: number;\n",
        "  lower_bound: number;\n",
        "  trigger_alert: boolean;\n",
        "  price_abc: number;\n",
        "  price_def: number;\n",
        "}\n",
        "\n",
        "class DataManipulator {\n",
        "  generateRow(serverResponse: any[]): Row {\n",
        "    const [stockAbc, stockDef] = serverResponse;\n",
        "    const priceAbc = stockAbc.top_ask_price;\n",
        "    const priceDef = stockDef.top_ask_price;\n",
        "    const ratio = priceAbc / priceDef;\n",
        "    const upperBound = 1.05; // adjust to +/- 10% of 12 month historical average ratio\n",
        "    const lowerBound = 0.95; // adjust to +/- 10% of 12 month historical average ratio\n",
        "    const triggerAlert = ratio > upperBound || ratio < lowerBound;\n",
        "\n",
        "    return {\n",
        "      timestamp: Date.now(),\n",
        "      ratio,\n",
        "      upper_bound: upperBound,\n",
        "      lower_bound: lowerBound,\n",
        "      trigger_alert: triggerAlert,\n",
        "      price_abc: priceAbc,\n",
        "      price_def: priceDef,\n",
        "    };\n",
        "  }\n",
        "}\n",
        "\n",
        "export default DataManipulator;"
      ],
      "metadata": {
        "colab": {
          "base_uri": "https://localhost:8080/",
          "height": 110
        },
        "id": "NJaidd-UWV_a",
        "outputId": "00c8613d-f61c-4b32-8100-7544ac859ab1"
      },
      "execution_count": 3,
      "outputs": [
        {
          "output_type": "error",
          "ename": "SyntaxError",
          "evalue": "invalid syntax (<ipython-input-3-62d5ba40d321>, line 1)",
          "traceback": [
            "\u001b[0;36m  File \u001b[0;32m\"<ipython-input-3-62d5ba40d321>\"\u001b[0;36m, line \u001b[0;32m1\u001b[0m\n\u001b[0;31m    interface Row {\u001b[0m\n\u001b[0m              ^\u001b[0m\n\u001b[0;31mSyntaxError\u001b[0m\u001b[0;31m:\u001b[0m invalid syntax\n"
          ]
        }
      ]
    }
  ]
}